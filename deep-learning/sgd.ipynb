{
 "cells": [
  {
   "cell_type": "code",
   "execution_count": 19,
   "metadata": {
    "collapsed": true,
    "pycharm": {
     "is_executing": false
    }
   },
   "outputs": [],
   "source": [
    "from sklearn.datasets import make_blobs\n",
    "import numpy as np\n",
    "\n",
    "X, y = make_blobs(n_samples=500, n_features=2, centers=2, cluster_std=2.5, random_state=7)"
   ]
  },
  {
   "cell_type": "code",
   "execution_count": 20,
   "outputs": [],
   "source": [
    "# insert bias parameter 1 in the same matrix\n",
    "X = np.c_[np.ones((X.shape[0])), X]"
   ],
   "metadata": {
    "collapsed": false,
    "pycharm": {
     "name": "#%%\n",
     "is_executing": false
    }
   }
  },
  {
   "cell_type": "code",
   "execution_count": 21,
   "outputs": [],
   "source": [
    "loss_history = []"
   ],
   "metadata": {
    "collapsed": false,
    "pycharm": {
     "name": "#%%\n",
     "is_executing": false
    }
   }
  },
  {
   "cell_type": "code",
   "execution_count": 22,
   "outputs": [],
   "source": [
    "def get_batch(X, y, batchsize):\n",
    "    for i in np.arange(0, X.shape[0], batchsize):\n",
    "        yield X[i: i+batchsize], y[i:i+batchsize]"
   ],
   "metadata": {
    "collapsed": false,
    "pycharm": {
     "name": "#%%\n",
     "is_executing": false
    }
   }
  },
  {
   "cell_type": "code",
   "execution_count": 23,
   "outputs": [],
   "source": [
    "def sigmoid_activation(x):\n",
    "    return 1.0/(1+np.exp(-x))"
   ],
   "metadata": {
    "collapsed": false,
    "pycharm": {
     "name": "#%%\n",
     "is_executing": false
    }
   }
  },
  {
   "cell_type": "code",
   "execution_count": 26,
   "outputs": [],
   "source": [
    "def sgd(epochs, batchsize, alpha, W):\n",
    "    for epoch in range(0, epochs):\n",
    "        epoch_loss = [] \n",
    "        \n",
    "        for Xi, yi in get_batch(X, y, batchsize=batchsize):\n",
    "            predictions = sigmoid_activation(Xi.dot(W))\n",
    "            errors = predictions - yi\n",
    "            \n",
    "            loss = np.sum(errors**2)\n",
    "            epoch_loss.append(loss)\n",
    "            gradient = Xi.T.dot(errors)/Xi.shape[0]\n",
    "            \n",
    "            W += -alpha * gradient\n",
    "    \n",
    "    loss_history.append(np.average(epoch_loss))"
   ],
   "metadata": {
    "collapsed": false,
    "pycharm": {
     "name": "#%%\n",
     "is_executing": false
    }
   }
  },
  {
   "cell_type": "code",
   "execution_count": 27,
   "outputs": [
    {
     "name": "stdout",
     "text": [
      "[2.098595209329731, 2.091383832149247]\n"
     ],
     "output_type": "stream"
    }
   ],
   "source": [
    "# initialize weights matrix with same number of columns as input features\n",
    "W = np.random.uniform(size=(X.shape[1], ))\n",
    "\n",
    "sgd(epochs=100, batchsize=32, alpha=0.01, W=W)\n",
    "print(loss_history)"
   ],
   "metadata": {
    "collapsed": false,
    "pycharm": {
     "name": "#%%\n",
     "is_executing": false
    }
   }
  }
 ],
 "metadata": {
  "kernelspec": {
   "display_name": "Python 3",
   "language": "python",
   "name": "python3"
  },
  "language_info": {
   "codemirror_mode": {
    "name": "ipython",
    "version": 2
   },
   "file_extension": ".py",
   "mimetype": "text/x-python",
   "name": "python",
   "nbconvert_exporter": "python",
   "pygments_lexer": "ipython2",
   "version": "2.7.6"
  },
  "pycharm": {
   "stem_cell": {
    "cell_type": "raw",
    "source": [],
    "metadata": {
     "collapsed": false
    }
   }
  }
 },
 "nbformat": 4,
 "nbformat_minor": 0
}